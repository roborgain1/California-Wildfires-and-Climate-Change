{
 "cells": [
  {
   "cell_type": "code",
   "execution_count": null,
   "metadata": {},
   "outputs": [],
   "source": [
    "## What is the effect of increasing state temperatures on wildfire severity and frequency?"
   ]
  },
  {
   "cell_type": "code",
   "execution_count": 6,
   "metadata": {},
   "outputs": [],
   "source": [
    "# Import dependencies\n",
    "import pandas as pd\n",
    "import matplotlib.pyplot as plt\n",
    "import scipy.stats as sts\n",
    "import numpy as np\n",
    "from datetime import datetime"
   ]
  },
  {
   "cell_type": "code",
   "execution_count": 7,
   "metadata": {},
   "outputs": [],
   "source": [
    "# Import data\n",
    "jan_avg_pcp = pd.read_csv('Resources/1990-2020_Jan_AvgPcp.csv', skiprows= [1, 2, 3, 4], encoding='utf-8')\n",
    "feb_avg_pcp = pd.read_csv('Resources/1990-2020_Feb_AvgPcp.csv', skiprows= [1, 2, 3, 4], encoding='utf-8')\n",
    "mar_avg_pcp = pd.read_csv('Resources/1990-2020_Mar_AvgPcp.csv', skiprows= [1, 2, 3, 4], encoding='utf-8')\n",
    "apr_avg_pcp = pd.read_csv('Resources/1990-2020_Apr_AvgPcp.csv', skiprows= [1, 2, 3, 4], encoding='utf-8')\n",
    "may_avg_pcp = pd.read_csv('Resources/1990-2020_May_AvgPcp.csv', skiprows= [1, 2, 3, 4], encoding='utf-8')\n",
    "jun_avg_pcp = pd.read_csv('Resources/1990-2020_Jun_AvgPcp.csv', skiprows= [1, 2, 3, 4], encoding='utf-8')\n",
    "jul_avg_pcp = pd.read_csv('Resources/1990-2020_Jul_AvgPcp.csv', skiprows= [1, 2, 3, 4], encoding='utf-8')\n",
    "aug_avg_pcp = pd.read_csv('Resources/1990-2020_Aug_AvgPcp.csv', skiprows= [1, 2, 3, 4], encoding='utf-8')\n",
    "sep_avg_pcp = pd.read_csv('Resources/1990-2020_Sep_AvgPcp.csv', skiprows= [1, 2, 3, 4], encoding='utf-8')\n",
    "oct_avg_pcp = pd.read_csv('Resources/1990-2020_Oct_AvgPcp.csv', skiprows= [1, 2, 3, 4], encoding='utf-8')\n",
    "nov_avg_pcp = pd.read_csv('Resources/1990-2020_Nov_AvgPcp.csv', skiprows= [1, 2, 3, 4], encoding='utf-8')\n",
    "dec_avg_pcp = pd.read_csv('Resources/1990-2020_Dec_AvgPcp.csv', skiprows= [1, 2, 3, 4], encoding='utf-8')"
   ]
  },
  {
   "cell_type": "code",
   "execution_count": 8,
   "metadata": {},
   "outputs": [],
   "source": [
    "# Remove anomaly column \n",
    "\n",
    "# List of dataframes\n",
    "months_dfs = [jan_avg_pcp, feb_avg_pcp, mar_avg_pcp, apr_avg_pcp, may_avg_pcp, jun_avg_pcp, jul_avg_pcp, aug_avg_pcp, sep_avg_pcp, oct_avg_pcp, nov_avg_pcp, dec_avg_pcp]\n",
    "\n",
    "# Create a for loop to change last column to \"NA\" for all dfs and then drop column \"NA\" \n",
    "for df in months_dfs:\n",
    "    df.columns = ['Date', 'Precipitation', 'NA']\n",
    "    df['Precipitation (in)'] = df['Precipitation']\n",
    "    df.drop('Precipitation', 1, inplace= True)\n",
    "    del df['NA']"
   ]
  },
  {
   "cell_type": "code",
   "execution_count": 9,
   "metadata": {},
   "outputs": [
    {
     "data": {
      "text/html": [
       "<div>\n",
       "<style scoped>\n",
       "    .dataframe tbody tr th:only-of-type {\n",
       "        vertical-align: middle;\n",
       "    }\n",
       "\n",
       "    .dataframe tbody tr th {\n",
       "        vertical-align: top;\n",
       "    }\n",
       "\n",
       "    .dataframe thead th {\n",
       "        text-align: right;\n",
       "    }\n",
       "</style>\n",
       "<table border=\"1\" class=\"dataframe\">\n",
       "  <thead>\n",
       "    <tr style=\"text-align: right;\">\n",
       "      <th></th>\n",
       "      <th>Date</th>\n",
       "      <th>Precipitation (in)</th>\n",
       "    </tr>\n",
       "  </thead>\n",
       "  <tbody>\n",
       "    <tr>\n",
       "      <th>0</th>\n",
       "      <td>199007</td>\n",
       "      <td>0.28</td>\n",
       "    </tr>\n",
       "    <tr>\n",
       "      <th>1</th>\n",
       "      <td>199107</td>\n",
       "      <td>0.26</td>\n",
       "    </tr>\n",
       "    <tr>\n",
       "      <th>2</th>\n",
       "      <td>199207</td>\n",
       "      <td>0.24</td>\n",
       "    </tr>\n",
       "    <tr>\n",
       "      <th>3</th>\n",
       "      <td>199307</td>\n",
       "      <td>0.03</td>\n",
       "    </tr>\n",
       "    <tr>\n",
       "      <th>4</th>\n",
       "      <td>199407</td>\n",
       "      <td>0.05</td>\n",
       "    </tr>\n",
       "  </tbody>\n",
       "</table>\n",
       "</div>"
      ],
      "text/plain": [
       "     Date  Precipitation (in)\n",
       "0  199007                0.28\n",
       "1  199107                0.26\n",
       "2  199207                0.24\n",
       "3  199307                0.03\n",
       "4  199407                0.05"
      ]
     },
     "execution_count": 9,
     "metadata": {},
     "output_type": "execute_result"
    }
   ],
   "source": [
    "jul_avg_pcp.head()"
   ]
  },
  {
   "cell_type": "code",
   "execution_count": 11,
   "metadata": {},
   "outputs": [],
   "source": [
    "# Create a loop to get year and month from all dataframes \n",
    "months_dfs = [jan_avg_pcp, feb_avg_pcp, mar_avg_pcp, apr_avg_pcp, may_avg_pcp, jun_avg_pcp, jul_avg_pcp, aug_avg_pcp, sep_avg_pcp, oct_avg_pcp, nov_avg_pcp, dec_avg_pcp]\n",
    "\n",
    "for df in months_dfs:\n",
    "    df['fake_year'] = pd.to_datetime(df['Date'],format='%Y%m')\n",
    "    df['Year'] = pd.DatetimeIndex(df['fake_year']).year\n",
    "    df['Month'] = pd.DatetimeIndex(df['fake_year']).month\n",
    "    df.drop('fake_year', 1, inplace= True)\n",
    "    df.drop('Date', 1, inplace= True)"
   ]
  },
  {
   "cell_type": "code",
   "execution_count": null,
   "metadata": {},
   "outputs": [],
   "source": []
  }
 ],
 "metadata": {
  "kernelspec": {
   "display_name": "Python 3",
   "language": "python",
   "name": "python3"
  },
  "language_info": {
   "codemirror_mode": {
    "name": "ipython",
    "version": 3
   },
   "file_extension": ".py",
   "mimetype": "text/x-python",
   "name": "python",
   "nbconvert_exporter": "python",
   "pygments_lexer": "ipython3",
   "version": "3.8.3"
  }
 },
 "nbformat": 4,
 "nbformat_minor": 4
}
