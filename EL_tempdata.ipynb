{
 "cells": [
  {
   "cell_type": "code",
   "execution_count": 2,
   "metadata": {},
   "outputs": [],
   "source": [
    "## What is the effect of increasing state temperatures on wildfire severity and frequency?"
   ]
  },
  {
   "cell_type": "code",
   "execution_count": 1,
   "metadata": {},
   "outputs": [],
   "source": [
    "# Import dependencies\n",
    "import pandas as pd\n",
    "import matplotlib.pyplot as plt\n",
    "import scipy.stats as sts\n",
    "import numpy as np\n",
    "from datetime import datetime"
   ]
  },
  {
   "cell_type": "code",
   "execution_count": 2,
   "metadata": {},
   "outputs": [],
   "source": [
    "# Import data\n",
    "jan_avg_temp = pd.read_csv('Resources/1990-2020_Jan_AvgTemp.csv', skiprows= [1, 2, 3, 4], encoding='utf-8')\n",
    "feb_avg_temp = pd.read_csv('Resources/1990-2020_Feb_AvgTemp.csv', skiprows= [1, 2, 3, 4], encoding='utf-8')\n",
    "mar_avg_temp = pd.read_csv('Resources/1990-2020_Mar_AvgTemp.csv', skiprows= [1, 2, 3, 4], encoding='utf-8')\n",
    "apr_avg_temp = pd.read_csv('Resources/1990-2020_Apr_AvgTemp.csv', skiprows= [1, 2, 3, 4], encoding='utf-8')\n",
    "may_avg_temp = pd.read_csv('Resources/1990-2020_May_AvgTemp.csv', skiprows= [1, 2, 3, 4], encoding='utf-8')\n",
    "jun_avg_temp = pd.read_csv('Resources/1990-2020_Jun_AvgTemp.csv', skiprows= [1, 2, 3, 4], encoding='utf-8')\n",
    "jul_avg_temp = pd.read_csv('Resources/1990-2020_Jul_AvgTemp.csv', skiprows= [1, 2, 3, 4], encoding='utf-8')\n",
    "aug_avg_temp = pd.read_csv('Resources/1990-2020_Aug_AvgTemp.csv', skiprows= [1, 2, 3, 4], encoding='utf-8')\n",
    "sep_avg_temp = pd.read_csv('Resources/1990-2020_Sep_AvgTemp.csv', skiprows= [1, 2, 3, 4], encoding='utf-8')\n",
    "oct_avg_temp = pd.read_csv('Resources/1990-2020_Oct_AvgTemp.csv', skiprows= [1, 2, 3, 4], encoding='utf-8')\n",
    "nov_avg_temp = pd.read_csv('Resources/1990-2020_Nov_AvgTemp.csv', skiprows= [1, 2, 3, 4], encoding='utf-8')\n",
    "dec_avg_temp = pd.read_csv('Resources/1990-2020_Dec_AvgTemp.csv', skiprows= [1, 2, 3, 4], encoding='utf-8')\n"
   ]
  },
  {
   "cell_type": "code",
   "execution_count": 4,
   "metadata": {},
   "outputs": [],
   "source": [
    "# jan_avg_temp.columns = ['Date', 'Average Temperature', 'NA']\n",
    "# jan_avg_temp.drop('NA', 1).head()"
   ]
  },
  {
   "cell_type": "code",
   "execution_count": 5,
   "metadata": {},
   "outputs": [],
   "source": [
    "# Remove anomaly column\n",
    "# List of dataframes\n",
    "months_dfs = [jan_avg_temp, feb_avg_temp, mar_avg_temp, apr_avg_temp, may_avg_temp, jun_avg_temp, jul_avg_temp, aug_avg_temp, sep_avg_temp, oct_avg_temp, nov_avg_temp, dec_avg_temp]\n",
    "\n",
    "# Create a for loop to change last column to \"NA\" for all dfs and then drop column \"NA\" \n",
    "for df in months_dfs:\n",
    "    df.columns = ['Date', 'Average Temperature', 'NA']\n",
    "    df['Average Temperature (F)'] = df['Average Temperature']\n",
    "    df.drop('Average Temperature', 1, inplace= True)\n",
    "    del df['NA']"
   ]
  },
  {
   "cell_type": "code",
   "execution_count": 6,
   "metadata": {},
   "outputs": [],
   "source": [
    "# # Split up date into year and month columns\n",
    "# jan_avg_temp['fake_year'] = pd.to_datetime(jan_avg_temp['Date'],format='%Y%m')\n",
    "# jan_avg_temp['year'] = pd.DatetimeIndex(jan_avg_temp['fake_year']).year\n",
    "# jan_avg_temp['month'] = pd.DatetimeIndex(jan_avg_temp['fake_year']).month\n",
    "# jan_avg_temp.drop('fake_year', 1).head()"
   ]
  },
  {
   "cell_type": "code",
   "execution_count": 6,
   "metadata": {},
   "outputs": [],
   "source": [
    "# Create a loop to get year and month from all dataframes \n",
    "months_dfs = [jan_avg_temp, feb_avg_temp, mar_avg_temp, apr_avg_temp, may_avg_temp, jun_avg_temp, jul_avg_temp, aug_avg_temp, sep_avg_temp, oct_avg_temp, nov_avg_temp, dec_avg_temp]\n",
    "\n",
    "for df in months_dfs:\n",
    "    df['fake_year'] = pd.to_datetime(df['Date'],format='%Y%m')\n",
    "    df['Year'] = pd.DatetimeIndex(df['fake_year']).year\n",
    "    df['Month'] = pd.DatetimeIndex(df['fake_year']).month\n",
    "    df.drop('fake_year', 1, inplace= True)\n",
    "    df.drop('Date', 1, inplace= True)"
   ]
  },
  {
   "cell_type": "code",
   "execution_count": 9,
   "metadata": {},
   "outputs": [],
   "source": [
    "# Merge data from Jan-Dec on Month (or year), how = left\n",
    "# merged_jan_feb = jan_avg_temp.merge(feb_avg_temp, on= 'Year', how= 'inner')\n",
    "# merged_jan_feb"
   ]
  },
  {
   "cell_type": "code",
   "execution_count": 8,
   "metadata": {},
   "outputs": [],
   "source": [
    "# Plot a line graph showing average monthly temperature over 30 year period\n",
    "# for df in months_dfs:\n",
    "#     x = df['Year']\n",
    "#     y = df['Average Temperature']\n",
    "#     plt.plot(x,y)"
   ]
  },
  {
   "cell_type": "code",
   "execution_count": 11,
   "metadata": {},
   "outputs": [],
   "source": [
    "# Plot a line graph showing average annual temperture over 30 year period"
   ]
  },
  {
   "cell_type": "code",
   "execution_count": 9,
   "metadata": {},
   "outputs": [],
   "source": [
    "# Plot scatter of each of the above\n",
    "# a = jul_avg_temp['Year']\n",
    "# b = jul_avg_temp['Average Temperature']\n",
    "# plt.scatter(a,b)"
   ]
  },
  {
   "cell_type": "code",
   "execution_count": null,
   "metadata": {},
   "outputs": [],
   "source": []
  }
 ],
 "metadata": {
  "kernelspec": {
   "display_name": "Python 3",
   "language": "python",
   "name": "python3"
  },
  "language_info": {
   "codemirror_mode": {
    "name": "ipython",
    "version": 3
   },
   "file_extension": ".py",
   "mimetype": "text/x-python",
   "name": "python",
   "nbconvert_exporter": "python",
   "pygments_lexer": "ipython3",
   "version": "3.8.3"
  }
 },
 "nbformat": 4,
 "nbformat_minor": 4
}
