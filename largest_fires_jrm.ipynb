{
 "cells": [
  {
   "cell_type": "code",
   "execution_count": 1,
   "metadata": {},
   "outputs": [],
   "source": [
    "#Dependencies and setup\n",
    "import matplotlib.pyplot as plt\n",
    "import pandas as pd\n",
    "import scipy.stats as st\n",
    "import numpy as np\n",
    "from scipy.stats import linregress\n",
    "import requests\n",
    "import gmaps\n",
    "import os"
   ]
  },
  {
   "cell_type": "code",
   "execution_count": 3,
   "metadata": {},
   "outputs": [
    {
     "data": {
      "text/html": [
       "<div>\n",
       "<style scoped>\n",
       "    .dataframe tbody tr th:only-of-type {\n",
       "        vertical-align: middle;\n",
       "    }\n",
       "\n",
       "    .dataframe tbody tr th {\n",
       "        vertical-align: top;\n",
       "    }\n",
       "\n",
       "    .dataframe thead th {\n",
       "        text-align: right;\n",
       "    }\n",
       "</style>\n",
       "<table border=\"1\" class=\"dataframe\">\n",
       "  <thead>\n",
       "    <tr style=\"text-align: right;\">\n",
       "      <th></th>\n",
       "      <th>fire_name</th>\n",
       "      <th>cause</th>\n",
       "      <th>month</th>\n",
       "      <th>year</th>\n",
       "      <th>county</th>\n",
       "      <th>acres</th>\n",
       "      <th>structures</th>\n",
       "      <th>deaths</th>\n",
       "    </tr>\n",
       "  </thead>\n",
       "  <tbody>\n",
       "    <tr>\n",
       "      <th>0</th>\n",
       "      <td>Mendocino Complex</td>\n",
       "      <td>Under Investigation</td>\n",
       "      <td>July</td>\n",
       "      <td>2018</td>\n",
       "      <td>Colusa County, Lake County, Mendocino County &amp;...</td>\n",
       "      <td>459123</td>\n",
       "      <td>280</td>\n",
       "      <td>1</td>\n",
       "    </tr>\n",
       "    <tr>\n",
       "      <th>1</th>\n",
       "      <td>Thomas</td>\n",
       "      <td>Powerlines</td>\n",
       "      <td>December</td>\n",
       "      <td>2017</td>\n",
       "      <td>Ventura &amp; Santa Barbara</td>\n",
       "      <td>281893</td>\n",
       "      <td>1063</td>\n",
       "      <td>2</td>\n",
       "    </tr>\n",
       "    <tr>\n",
       "      <th>2</th>\n",
       "      <td>Cedar</td>\n",
       "      <td>Human Related</td>\n",
       "      <td>October</td>\n",
       "      <td>2003</td>\n",
       "      <td>San Diego</td>\n",
       "      <td>273246</td>\n",
       "      <td>2820</td>\n",
       "      <td>15</td>\n",
       "    </tr>\n",
       "    <tr>\n",
       "      <th>3</th>\n",
       "      <td>Rush</td>\n",
       "      <td>Lightning</td>\n",
       "      <td>August</td>\n",
       "      <td>2012</td>\n",
       "      <td>Lassen</td>\n",
       "      <td>271911</td>\n",
       "      <td>0</td>\n",
       "      <td>0</td>\n",
       "    </tr>\n",
       "    <tr>\n",
       "      <th>4</th>\n",
       "      <td>Rim</td>\n",
       "      <td>Human Related</td>\n",
       "      <td>August</td>\n",
       "      <td>2013</td>\n",
       "      <td>Tuolumne</td>\n",
       "      <td>257314</td>\n",
       "      <td>112</td>\n",
       "      <td>0</td>\n",
       "    </tr>\n",
       "  </tbody>\n",
       "</table>\n",
       "</div>"
      ],
      "text/plain": [
       "           fire_name                cause     month  year  \\\n",
       "0  Mendocino Complex  Under Investigation      July  2018   \n",
       "1             Thomas           Powerlines  December  2017   \n",
       "2              Cedar        Human Related   October  2003   \n",
       "3               Rush            Lightning    August  2012   \n",
       "4                Rim        Human Related    August  2013   \n",
       "\n",
       "                                              county   acres  structures  \\\n",
       "0  Colusa County, Lake County, Mendocino County &...  459123         280   \n",
       "1                            Ventura & Santa Barbara  281893        1063   \n",
       "2                                          San Diego  273246        2820   \n",
       "3                                             Lassen  271911           0   \n",
       "4                                           Tuolumne  257314         112   \n",
       "\n",
       "   deaths  \n",
       "0       1  \n",
       "1       2  \n",
       "2      15  \n",
       "3       0  \n",
       "4       0  "
      ]
     },
     "execution_count": 3,
     "metadata": {},
     "output_type": "execute_result"
    }
   ],
   "source": [
    "#data files\n",
    "ca_largest_fires = 'Resources/top_20_CA_wildfires.csv'\n",
    "\n",
    "# read CA fire perimeters \n",
    "ca_largest_fires = pd.read_csv(ca_largest_fires)\n",
    "\n",
    "#create DataFrame\n",
    "top_20_fires_df = pd.DataFrame(ca_largest_fires)\n",
    "top_20_fires_df.head()"
   ]
  },
  {
   "cell_type": "code",
   "execution_count": 4,
   "metadata": {},
   "outputs": [
    {
     "data": {
      "image/png": "[encoded data removed]",
      "text/plain": [
       "<Figure size 432x288 with 1 Axes>"
      ]
     },
     "metadata": {
      "needs_background": "light"
     },
     "output_type": "display_data"
    }
   ],
   "source": [
    "x_axis = top_20_fires_df['year']\n",
    "y_axis = top_20_fires_df['acres']\n",
    "\n",
    "# making a scatter plot\n",
    "plt.bar(x_axis, y_axis, width=0.90)\n",
    "plt.xticks(rotation=90)\n",
    "\n",
    "\n",
    "# giving the name to the x and y label\n",
    "plt.title('Year vs. Acres Burned ')\n",
    "plt.xlabel('Year')\n",
    "plt.ylabel('Acres Burned')\n",
    "plt.savefig('years_vs_acresburned_all.png')"
   ]
  },
  {
   "cell_type": "code",
   "execution_count": 5,
   "metadata": {},
   "outputs": [
    {
     "data": {
      "image/png": "[encoded data removed]",
      "text/plain": [
       "<Figure size 432x288 with 1 Axes>"
      ]
     },
     "metadata": {
      "needs_background": "light"
     },
     "output_type": "display_data"
    }
   ],
   "source": [
    "x_axis = top_20_fires_df['year']\n",
    "y_axis = top_20_fires_df['structures']\n",
    "\n",
    "# making a scatter plot\n",
    "plt.bar(x_axis, y_axis,  width=0.90)\n",
    "\n",
    "\n",
    "# giving the name to the x and y label\n",
    "plt.title('Year vs. Structures Destroyed')\n",
    "plt.xlabel('Year')\n",
    "plt.ylabel('Structures Destroyed')\n",
    "plt.savefig('years_vs_structures_destroyed_all.png')"
   ]
  },
  {
   "cell_type": "code",
   "execution_count": 6,
   "metadata": {},
   "outputs": [
    {
     "data": {
      "image/png": "[encoded data removed]",
      "text/plain": [
       "<Figure size 432x288 with 1 Axes>"
      ]
     },
     "metadata": {
      "needs_background": "light"
     },
     "output_type": "display_data"
    }
   ],
   "source": [
    "x_axis = top_20_fires_df['year']\n",
    "y_axis = top_20_fires_df['deaths']\n",
    "\n",
    "# making a scatter plot\n",
    "plt.bar(x_axis, y_axis)\n",
    "\n",
    "\n",
    "# giving the name to the x and y label\n",
    "plt.title('Year vs. Deaths')\n",
    "plt.xlabel('Year')\n",
    "plt.ylabel('Number of Deaths')\n",
    "plt.savefig('years_vs_deaths_all.png')"
   ]
  },
  {
   "cell_type": "code",
   "execution_count": 7,
   "metadata": {},
   "outputs": [
    {
     "data": {
      "text/html": [
       "<div>\n",
       "<style scoped>\n",
       "    .dataframe tbody tr th:only-of-type {\n",
       "        vertical-align: middle;\n",
       "    }\n",
       "\n",
       "    .dataframe tbody tr th {\n",
       "        vertical-align: top;\n",
       "    }\n",
       "\n",
       "    .dataframe thead th {\n",
       "        text-align: right;\n",
       "    }\n",
       "</style>\n",
       "<table border=\"1\" class=\"dataframe\">\n",
       "  <thead>\n",
       "    <tr style=\"text-align: right;\">\n",
       "      <th></th>\n",
       "      <th>fire_name</th>\n",
       "      <th>cause</th>\n",
       "      <th>month</th>\n",
       "      <th>year</th>\n",
       "      <th>county</th>\n",
       "      <th>acres</th>\n",
       "      <th>structures</th>\n",
       "      <th>deaths</th>\n",
       "    </tr>\n",
       "  </thead>\n",
       "  <tbody>\n",
       "    <tr>\n",
       "      <th>0</th>\n",
       "      <td>Mendocino Complex</td>\n",
       "      <td>Under Investigation</td>\n",
       "      <td>July</td>\n",
       "      <td>2018</td>\n",
       "      <td>Colusa County, Lake County, Mendocino County &amp;...</td>\n",
       "      <td>459123</td>\n",
       "      <td>280</td>\n",
       "      <td>1</td>\n",
       "    </tr>\n",
       "    <tr>\n",
       "      <th>1</th>\n",
       "      <td>Thomas</td>\n",
       "      <td>Powerlines</td>\n",
       "      <td>December</td>\n",
       "      <td>2017</td>\n",
       "      <td>Ventura &amp; Santa Barbara</td>\n",
       "      <td>281893</td>\n",
       "      <td>1063</td>\n",
       "      <td>2</td>\n",
       "    </tr>\n",
       "    <tr>\n",
       "      <th>2</th>\n",
       "      <td>Cedar</td>\n",
       "      <td>Human Related</td>\n",
       "      <td>October</td>\n",
       "      <td>2003</td>\n",
       "      <td>San Diego</td>\n",
       "      <td>273246</td>\n",
       "      <td>2820</td>\n",
       "      <td>15</td>\n",
       "    </tr>\n",
       "    <tr>\n",
       "      <th>3</th>\n",
       "      <td>Rush</td>\n",
       "      <td>Lightning</td>\n",
       "      <td>August</td>\n",
       "      <td>2012</td>\n",
       "      <td>Lassen</td>\n",
       "      <td>271911</td>\n",
       "      <td>0</td>\n",
       "      <td>0</td>\n",
       "    </tr>\n",
       "    <tr>\n",
       "      <th>4</th>\n",
       "      <td>Rim</td>\n",
       "      <td>Human Related</td>\n",
       "      <td>August</td>\n",
       "      <td>2013</td>\n",
       "      <td>Tuolumne</td>\n",
       "      <td>257314</td>\n",
       "      <td>112</td>\n",
       "      <td>0</td>\n",
       "    </tr>\n",
       "    <tr>\n",
       "      <th>5</th>\n",
       "      <td>Zaca</td>\n",
       "      <td>Human Related</td>\n",
       "      <td>July</td>\n",
       "      <td>2007</td>\n",
       "      <td>Santa Barbara</td>\n",
       "      <td>240207</td>\n",
       "      <td>1</td>\n",
       "      <td>0</td>\n",
       "    </tr>\n",
       "    <tr>\n",
       "      <th>6</th>\n",
       "      <td>Carr</td>\n",
       "      <td>Human Related</td>\n",
       "      <td>July</td>\n",
       "      <td>2018</td>\n",
       "      <td>Shasta County,Trinity County</td>\n",
       "      <td>229651</td>\n",
       "      <td>1614</td>\n",
       "      <td>8</td>\n",
       "    </tr>\n",
       "    <tr>\n",
       "      <th>8</th>\n",
       "      <td>Witch</td>\n",
       "      <td>Powerlines</td>\n",
       "      <td>October</td>\n",
       "      <td>2007</td>\n",
       "      <td>San Diego</td>\n",
       "      <td>197990</td>\n",
       "      <td>1650</td>\n",
       "      <td>2</td>\n",
       "    </tr>\n",
       "    <tr>\n",
       "      <th>9</th>\n",
       "      <td>Klamath Theater Complex</td>\n",
       "      <td>Lightning</td>\n",
       "      <td>June</td>\n",
       "      <td>2008</td>\n",
       "      <td>Siskiyou</td>\n",
       "      <td>192038</td>\n",
       "      <td>0</td>\n",
       "      <td>2</td>\n",
       "    </tr>\n",
       "    <tr>\n",
       "      <th>12</th>\n",
       "      <td>Basin Complex</td>\n",
       "      <td>Lightning</td>\n",
       "      <td>June</td>\n",
       "      <td>2008</td>\n",
       "      <td>Monterey</td>\n",
       "      <td>162818</td>\n",
       "      <td>58</td>\n",
       "      <td>0</td>\n",
       "    </tr>\n",
       "    <tr>\n",
       "      <th>13</th>\n",
       "      <td>Day Fire</td>\n",
       "      <td>Human Related</td>\n",
       "      <td>September</td>\n",
       "      <td>2006</td>\n",
       "      <td>Ventura</td>\n",
       "      <td>162702</td>\n",
       "      <td>11</td>\n",
       "      <td>0</td>\n",
       "    </tr>\n",
       "    <tr>\n",
       "      <th>14</th>\n",
       "      <td>Station</td>\n",
       "      <td>Human Related</td>\n",
       "      <td>August</td>\n",
       "      <td>2009</td>\n",
       "      <td>Los Angeles</td>\n",
       "      <td>160557</td>\n",
       "      <td>209</td>\n",
       "      <td>2</td>\n",
       "    </tr>\n",
       "    <tr>\n",
       "      <th>15</th>\n",
       "      <td>Camp Fire</td>\n",
       "      <td>Powerlines</td>\n",
       "      <td>November</td>\n",
       "      <td>2018</td>\n",
       "      <td>Butte</td>\n",
       "      <td>153336</td>\n",
       "      <td>18804</td>\n",
       "      <td>85</td>\n",
       "    </tr>\n",
       "    <tr>\n",
       "      <th>16</th>\n",
       "      <td>Rough</td>\n",
       "      <td>Lightning</td>\n",
       "      <td>July</td>\n",
       "      <td>2015</td>\n",
       "      <td>Fresno</td>\n",
       "      <td>151623</td>\n",
       "      <td>4</td>\n",
       "      <td>0</td>\n",
       "    </tr>\n",
       "    <tr>\n",
       "      <th>17</th>\n",
       "      <td>Mcnally</td>\n",
       "      <td>Human Related</td>\n",
       "      <td>July</td>\n",
       "      <td>2002</td>\n",
       "      <td>Tulare</td>\n",
       "      <td>150696</td>\n",
       "      <td>17</td>\n",
       "      <td>0</td>\n",
       "    </tr>\n",
       "    <tr>\n",
       "      <th>19</th>\n",
       "      <td>Big Bar Complex</td>\n",
       "      <td>Lightning</td>\n",
       "      <td>August</td>\n",
       "      <td>1999</td>\n",
       "      <td>Trinity</td>\n",
       "      <td>140948</td>\n",
       "      <td>0</td>\n",
       "      <td>0</td>\n",
       "    </tr>\n",
       "  </tbody>\n",
       "</table>\n",
       "</div>"
      ],
      "text/plain": [
       "                  fire_name                cause      month  year  \\\n",
       "0         Mendocino Complex  Under Investigation       July  2018   \n",
       "1                    Thomas           Powerlines   December  2017   \n",
       "2                     Cedar        Human Related    October  2003   \n",
       "3                      Rush            Lightning     August  2012   \n",
       "4                       Rim        Human Related     August  2013   \n",
       "5                      Zaca        Human Related       July  2007   \n",
       "6                      Carr        Human Related       July  2018   \n",
       "8                     Witch           Powerlines    October  2007   \n",
       "9   Klamath Theater Complex            Lightning       June  2008   \n",
       "12            Basin Complex            Lightning       June  2008   \n",
       "13                 Day Fire        Human Related  September  2006   \n",
       "14                  Station        Human Related     August  2009   \n",
       "15                Camp Fire           Powerlines   November  2018   \n",
       "16                    Rough            Lightning       July  2015   \n",
       "17                  Mcnally        Human Related       July  2002   \n",
       "19          Big Bar Complex            Lightning     August  1999   \n",
       "\n",
       "                                               county   acres  structures  \\\n",
       "0   Colusa County, Lake County, Mendocino County &...  459123         280   \n",
       "1                             Ventura & Santa Barbara  281893        1063   \n",
       "2                                           San Diego  273246        2820   \n",
       "3                                              Lassen  271911           0   \n",
       "4                                            Tuolumne  257314         112   \n",
       "5                                       Santa Barbara  240207           1   \n",
       "6                        Shasta County,Trinity County  229651        1614   \n",
       "8                                           San Diego  197990        1650   \n",
       "9                                            Siskiyou  192038           0   \n",
       "12                                           Monterey  162818          58   \n",
       "13                                            Ventura  162702          11   \n",
       "14                                        Los Angeles  160557         209   \n",
       "15                                              Butte  153336       18804   \n",
       "16                                             Fresno  151623           4   \n",
       "17                                             Tulare  150696          17   \n",
       "19                                            Trinity  140948           0   \n",
       "\n",
       "    deaths  \n",
       "0        1  \n",
       "1        2  \n",
       "2       15  \n",
       "3        0  \n",
       "4        0  \n",
       "5        0  \n",
       "6        8  \n",
       "8        2  \n",
       "9        2  \n",
       "12       0  \n",
       "13       0  \n",
       "14       2  \n",
       "15      85  \n",
       "16       0  \n",
       "17       0  \n",
       "19       0  "
      ]
     },
     "execution_count": 7,
     "metadata": {},
     "output_type": "execute_result"
    }
   ],
   "source": [
    "past_30_years = top_20_fires_df.loc[top_20_fires_df['year'] >= 1990]\n",
    "past_30_years"
   ]
  },
  {
   "cell_type": "code",
   "execution_count": 21,
   "metadata": {},
   "outputs": [],
   "source": [
    "#export new dataframe to csv\n",
    "past_30_years.to_csv('past_30_years.csv')"
   ]
  },
  {
   "cell_type": "code",
   "execution_count": 8,
   "metadata": {},
   "outputs": [
    {
     "data": {
      "image/png": "[encoded data removed]",
      "text/plain": [
       "<Figure size 432x288 with 1 Axes>"
      ]
     },
     "metadata": {
      "needs_background": "light"
     },
     "output_type": "display_data"
    }
   ],
   "source": [
    "x_axis = past_30_years['year']\n",
    "y_axis = past_30_years['acres']\n",
    "\n",
    "# making a scatter plot\n",
    "plt.bar(x_axis, y_axis, width=0.90)\n",
    "plt.xticks(rotation=90)\n",
    "\n",
    "\n",
    "# giving the name to the x and y label\n",
    "plt.title('Year vs. Acres Burned ')\n",
    "plt.xlabel('Year')\n",
    "plt.ylabel('Acres Burned')\n",
    "plt.savefig('years_vs_acres_30yrs.png')"
   ]
  },
  {
   "cell_type": "code",
   "execution_count": 9,
   "metadata": {},
   "outputs": [
    {
     "data": {
      "image/png": "[encoded data removed]",
      "text/plain": [
       "<Figure size 432x288 with 1 Axes>"
      ]
     },
     "metadata": {
      "needs_background": "light"
     },
     "output_type": "display_data"
    }
   ],
   "source": [
    "x_axis = past_30_years['year']\n",
    "y_axis = past_30_years['structures']\n",
    "\n",
    "# making a scatter plot\n",
    "plt.bar(x_axis, y_axis,  width=0.90)\n",
    "plt.xticks(rotation=90)\n",
    "\n",
    "# giving the name to the x and y label\n",
    "plt.title('Year vs. Structures Destroyed')\n",
    "plt.xlabel('Year')\n",
    "plt.ylabel('Structures Destroyed')\n",
    "plt.savefig('years_vs_structures_30yrs.png')"
   ]
  },
  {
   "cell_type": "code",
   "execution_count": 10,
   "metadata": {},
   "outputs": [
    {
     "data": {
      "image/png": "[encoded data removed]",
      "text/plain": [
       "<Figure size 432x288 with 1 Axes>"
      ]
     },
     "metadata": {
      "needs_background": "light"
     },
     "output_type": "display_data"
    }
   ],
   "source": [
    "x_axis = past_30_years['year']\n",
    "y_axis = past_30_years['deaths']\n",
    "\n",
    "# making a scatter plot\n",
    "plt.bar(x_axis, y_axis)\n",
    "plt.xticks(rotation=90)\n",
    "\n",
    "# giving the name to the x and y label\n",
    "plt.title('Year vs. Deaths')\n",
    "plt.xlabel('Year')\n",
    "plt.ylabel('Number of Deaths')\n",
    "plt.savefig('years_vs_deaths_30yrs.png')"
   ]
  },
  {
   "cell_type": "code",
   "execution_count": 18,
   "metadata": {},
   "outputs": [
    {
     "name": "stdout",
     "output_type": "stream",
     "text": [
      "The r-value is -0.17\n"
     ]
    },
    {
     "data": {
      "image/png": "[encoded data removed]",
      "text/plain": [
       "<Figure size 432x288 with 1 Axes>"
      ]
     },
     "metadata": {
      "needs_background": "light"
     },
     "output_type": "display_data"
    },
    {
     "data": {
      "text/plain": [
       "<Figure size 432x288 with 0 Axes>"
      ]
     },
     "metadata": {},
     "output_type": "display_data"
    }
   ],
   "source": [
    "x_axis = past_30_years['acres']\n",
    "y_axis = past_30_years['structures']\n",
    "\n",
    "plt.scatter(x_axis, y_axis, edgecolors='black')\n",
    "\n",
    "plt.title('Acres Burned vs Structures Destroyed')\n",
    "plt.xlabel('Acres Burned')\n",
    "plt.ylabel('Structures Destroyed')\n",
    "\n",
    "correlation = st.pearsonr(x_axis, y_axis)\n",
    "correlation\n",
    "print(f\"The r-value is {round(correlation[0],2)}\")\n",
    "\n",
    "(slope, intercept, rvalue, pvalue, stderr) = linregress(x_axis, y_axis)\n",
    "regress_values = x_axis * slope + intercept\n",
    "line_eq = \"y = \" + str(round(slope,2)) + \"x + \" + str(round(intercept,2))\n",
    "plt.annotate(line_eq,(150000,15000),fontsize=15,color=\"blue\")\n",
    "plt.scatter(x_axis, y_axis, edgecolors='black')\n",
    "plt.plot(x_axis,regress_values,\"r-\")\n",
    "plt.show()\n",
    "plt.savefig('acres_vs_structures_30yrs.png')"
   ]
  },
  {
   "cell_type": "code",
   "execution_count": 19,
   "metadata": {},
   "outputs": [
    {
     "name": "stdout",
     "output_type": "stream",
     "text": [
      "The r-value is -0.17\n"
     ]
    },
    {
     "data": {
      "image/png": "[encoded data removed]",
      "text/plain": [
       "<Figure size 432x288 with 1 Axes>"
      ]
     },
     "metadata": {
      "needs_background": "light"
     },
     "output_type": "display_data"
    },
    {
     "data": {
      "text/plain": [
       "<Figure size 432x288 with 0 Axes>"
      ]
     },
     "metadata": {},
     "output_type": "display_data"
    }
   ],
   "source": [
    "x_axis = past_30_years['acres']\n",
    "y_axis = past_30_years['deaths']\n",
    "\n",
    "plt.scatter(x_axis, y_axis, edgecolors='black')\n",
    "\n",
    "plt.title('Acres Burned vs Number of Deaths')\n",
    "plt.xlabel('Acres Burned')\n",
    "plt.ylabel('Number of Deaths')\n",
    "\n",
    "deaths_correlation = st.pearsonr(x_axis, y_axis)\n",
    "deaths_correlation\n",
    "print(f\"The r-value is {round(deaths_correlation[0],2)}\")\n",
    "\n",
    "(slope, intercept, rvalue, pvalue, stderr) = linregress(x_axis, y_axis)\n",
    "regress_values = x_axis * slope + intercept\n",
    "line_eq = \"y = \" + str(round(slope,2)) + \"x + \" + str(round(intercept,2))\n",
    "plt.annotate(line_eq,(150000,60),fontsize=15,color=\"blue\")\n",
    "plt.scatter(x_axis, y_axis, edgecolors='black')\n",
    "plt.plot(x_axis,regress_values,\"r-\")\n",
    "plt.show()\n",
    "plt.savefig('acres_vs_deaths_30yrs.png')"
   ]
  },
  {
   "cell_type": "code",
   "execution_count": 20,
   "metadata": {},
   "outputs": [
    {
     "name": "stdout",
     "output_type": "stream",
     "text": [
      "The r-value is 1.0\n"
     ]
    },
    {
     "data": {
      "image/png": "[encoded data removed]",
      "text/plain": [
       "<Figure size 432x288 with 1 Axes>"
      ]
     },
     "metadata": {
      "needs_background": "light"
     },
     "output_type": "display_data"
    },
    {
     "data": {
      "text/plain": [
       "<Figure size 432x288 with 0 Axes>"
      ]
     },
     "metadata": {},
     "output_type": "display_data"
    }
   ],
   "source": [
    "x_axis = past_30_years['structures']\n",
    "y_axis = past_30_years['deaths']\n",
    "\n",
    "plt.scatter(x_axis, y_axis, edgecolors='black')\n",
    "\n",
    "plt.title('Structures Destroyed vs Number of Deaths')\n",
    "plt.xlabel('Structures Destroyed')\n",
    "plt.ylabel('Number of Deaths')\n",
    "\n",
    "str_correlation = st.pearsonr(x_axis, y_axis)\n",
    "str_correlation\n",
    "print(f\"The r-value is {round(str_correlation[0],2)}\")\n",
    "\n",
    "(slope, intercept, rvalue, pvalue, stderr) = linregress(x_axis, y_axis)\n",
    "regress_values = x_axis * slope + intercept\n",
    "line_eq = \"y = \" + str(round(slope,2)) + \"x + \" + str(round(intercept,2))\n",
    "plt.annotate(line_eq,(0,60),fontsize=15,color=\"blue\")\n",
    "plt.scatter(x_axis, y_axis, edgecolors='black')\n",
    "plt.plot(x_axis,regress_values,\"r-\")\n",
    "plt.show()\n",
    "plt.savefig('structure_vs_deaths_30yrs.png')"
   ]
  },
  {
   "cell_type": "code",
   "execution_count": 29,
   "metadata": {},
   "outputs": [
    {
     "data": {
      "text/plain": [
       "Human Related          7\n",
       "Lightning              5\n",
       "Powerlines             3\n",
       "Under Investigation    1\n",
       "Name: cause, dtype: int64"
      ]
     },
     "execution_count": 29,
     "metadata": {},
     "output_type": "execute_result"
    }
   ],
   "source": [
    "#pull value counts for cause of fire\n",
    "past_30_years['cause'].value_counts()"
   ]
  },
  {
   "cell_type": "code",
   "execution_count": 38,
   "metadata": {},
   "outputs": [
    {
     "data": {
      "image/png": "[encoded data removed]",
      "text/plain": [
       "<Figure size 432x288 with 1 Axes>"
      ]
     },
     "metadata": {},
     "output_type": "display_data"
    },
    {
     "data": {
      "text/plain": [
       "<Figure size 432x288 with 0 Axes>"
      ]
     },
     "metadata": {},
     "output_type": "display_data"
    }
   ],
   "source": [
    "human_related = past_30_years.loc[past_30_years['cause'] == 'Human Related'].count()[0]\n",
    "lightning = past_30_years.loc[past_30_years['cause'] == 'Lightning'].count()[0]\n",
    "powerlines = past_30_years.loc[past_30_years['cause'] == 'Powerlines'].count()[0]\n",
    "under_investigation = past_30_years.loc[past_30_years['cause'] == 'Under Investigation'].count()[0]\n",
    "\n",
    "labels = ['Human Related', 'Lightning', 'Powerlines', 'Under Investigation']\n",
    "\n",
    "plt.title('Cause of Fire')\n",
    "plt.pie([human_related, lightning, powerlines, under_investigation], labels=labels, autopct=\"%1.1f%%\", shadow=True)\n",
    "plt.show()\n",
    "plt.savefig('cause_of_fire_pie.png')"
   ]
  },
  {
   "cell_type": "code",
   "execution_count": null,
   "metadata": {},
   "outputs": [],
   "source": []
  }
 ],
 "metadata": {
  "kernelspec": {
   "display_name": "Python 3",
   "language": "python",
   "name": "python3"
  },
  "language_info": {
   "codemirror_mode": {
    "name": "ipython",
    "version": 3
   },
   "file_extension": ".py",
   "mimetype": "text/x-python",
   "name": "python",
   "nbconvert_exporter": "python",
   "pygments_lexer": "ipython3",
   "version": "3.6.10"
  }
 },
 "nbformat": 4,
 "nbformat_minor": 4
}
